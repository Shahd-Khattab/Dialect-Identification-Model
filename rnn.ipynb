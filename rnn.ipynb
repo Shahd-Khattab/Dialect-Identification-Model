{
 "cells": [
  {
   "cell_type": "code",
   "execution_count": 1,
   "metadata": {},
   "outputs": [],
   "source": [
    "# Importing the important libraries\n",
    "import pandas as pd \n",
    "import numpy as np\n",
    "from sklearn.feature_extraction.text import TfidfVectorizer\n",
    "import scipy.sparse as sp\n"
   ]
  },
  {
   "cell_type": "code",
   "execution_count": 2,
   "metadata": {},
   "outputs": [
    {
     "data": {
      "text/html": [
       "<div>\n",
       "<style scoped>\n",
       "    .dataframe tbody tr th:only-of-type {\n",
       "        vertical-align: middle;\n",
       "    }\n",
       "\n",
       "    .dataframe tbody tr th {\n",
       "        vertical-align: top;\n",
       "    }\n",
       "\n",
       "    .dataframe thead th {\n",
       "        text-align: right;\n",
       "    }\n",
       "</style>\n",
       "<table border=\"1\" class=\"dataframe\">\n",
       "  <thead>\n",
       "    <tr style=\"text-align: right;\">\n",
       "      <th></th>\n",
       "      <th>id</th>\n",
       "      <th>dialect</th>\n",
       "      <th>transformed</th>\n",
       "      <th>fineText</th>\n",
       "    </tr>\n",
       "  </thead>\n",
       "  <tbody>\n",
       "    <tr>\n",
       "      <th>0</th>\n",
       "      <td>939598542259277824</td>\n",
       "      <td>IQ</td>\n",
       "      <td>0</td>\n",
       "      <td>مثل ما داعش فجر تاريخ اجدادنا قبل سنه واحنه مع...</td>\n",
       "    </tr>\n",
       "    <tr>\n",
       "      <th>1</th>\n",
       "      <td>869345568534941696</td>\n",
       "      <td>IQ</td>\n",
       "      <td>0</td>\n",
       "      <td>احنا سنه وحق الله منفرق بس حسبى الله ونعم الوك...</td>\n",
       "    </tr>\n",
       "    <tr>\n",
       "      <th>2</th>\n",
       "      <td>936739253412917248</td>\n",
       "      <td>IQ</td>\n",
       "      <td>0</td>\n",
       "      <td>الكاوليه هنود مو عرب خلك غلابه عايشين بدون مشا...</td>\n",
       "    </tr>\n",
       "    <tr>\n",
       "      <th>3</th>\n",
       "      <td>995964915583156224</td>\n",
       "      <td>IQ</td>\n",
       "      <td>0</td>\n",
       "      <td>عليمن انطلع حركتنه بس ريد اذكر الزواج الى صدكو بى</td>\n",
       "    </tr>\n",
       "    <tr>\n",
       "      <th>4</th>\n",
       "      <td>633976940433510400</td>\n",
       "      <td>IQ</td>\n",
       "      <td>0</td>\n",
       "      <td>شيلوو اشتهر حسونى مع نور الزين والردح الزين</td>\n",
       "    </tr>\n",
       "    <tr>\n",
       "      <th>...</th>\n",
       "      <td>...</td>\n",
       "      <td>...</td>\n",
       "      <td>...</td>\n",
       "      <td>...</td>\n",
       "    </tr>\n",
       "    <tr>\n",
       "      <th>17995</th>\n",
       "      <td>1153015108106444800</td>\n",
       "      <td>BH</td>\n",
       "      <td>17</td>\n",
       "      <td>اى حتى الطير صايدتنه عدل</td>\n",
       "    </tr>\n",
       "    <tr>\n",
       "      <th>17996</th>\n",
       "      <td>1015716046085468160</td>\n",
       "      <td>BH</td>\n",
       "      <td>17</td>\n",
       "      <td>اشتكت لزوجها احس انى متضايقه فرد عليها الحنون ...</td>\n",
       "    </tr>\n",
       "    <tr>\n",
       "      <th>17997</th>\n",
       "      <td>1016457209851580416</td>\n",
       "      <td>BH</td>\n",
       "      <td>17</td>\n",
       "      <td>انت القمر بوسط ليلى انت مرى وحلمى انت النور لع...</td>\n",
       "    </tr>\n",
       "    <tr>\n",
       "      <th>17998</th>\n",
       "      <td>1153244931269566464</td>\n",
       "      <td>BH</td>\n",
       "      <td>17</td>\n",
       "      <td>عجيبه الصراحه ويامنظر الطبيعه تنسى كلشى الله ي...</td>\n",
       "    </tr>\n",
       "    <tr>\n",
       "      <th>17999</th>\n",
       "      <td>1157361172238262272</td>\n",
       "      <td>BH</td>\n",
       "      <td>17</td>\n",
       "      <td>حق على بحر كان مشهور بس عاش طول عمره فقير وعاد...</td>\n",
       "    </tr>\n",
       "  </tbody>\n",
       "</table>\n",
       "<p>18000 rows × 4 columns</p>\n",
       "</div>"
      ],
      "text/plain": [
       "                        id dialect  transformed  \\\n",
       "0       939598542259277824      IQ            0   \n",
       "1       869345568534941696      IQ            0   \n",
       "2       936739253412917248      IQ            0   \n",
       "3       995964915583156224      IQ            0   \n",
       "4       633976940433510400      IQ            0   \n",
       "...                    ...     ...          ...   \n",
       "17995  1153015108106444800      BH           17   \n",
       "17996  1015716046085468160      BH           17   \n",
       "17997  1016457209851580416      BH           17   \n",
       "17998  1153244931269566464      BH           17   \n",
       "17999  1157361172238262272      BH           17   \n",
       "\n",
       "                                                fineText  \n",
       "0      مثل ما داعش فجر تاريخ اجدادنا قبل سنه واحنه مع...  \n",
       "1      احنا سنه وحق الله منفرق بس حسبى الله ونعم الوك...  \n",
       "2      الكاوليه هنود مو عرب خلك غلابه عايشين بدون مشا...  \n",
       "3      عليمن انطلع حركتنه بس ريد اذكر الزواج الى صدكو بى  \n",
       "4            شيلوو اشتهر حسونى مع نور الزين والردح الزين  \n",
       "...                                                  ...  \n",
       "17995                           اى حتى الطير صايدتنه عدل  \n",
       "17996  اشتكت لزوجها احس انى متضايقه فرد عليها الحنون ...  \n",
       "17997  انت القمر بوسط ليلى انت مرى وحلمى انت النور لع...  \n",
       "17998  عجيبه الصراحه ويامنظر الطبيعه تنسى كلشى الله ي...  \n",
       "17999  حق على بحر كان مشهور بس عاش طول عمره فقير وعاد...  \n",
       "\n",
       "[18000 rows x 4 columns]"
      ]
     },
     "execution_count": 2,
     "metadata": {},
     "output_type": "execute_result"
    }
   ],
   "source": [
    "# Reading the data\n",
    "data= pd.read_csv(\"preprocessedData.csv\")\n",
    "data=data.drop(['Unnamed: 0'], axis=1)\n",
    "data"
   ]
  },
  {
   "cell_type": "code",
   "execution_count": 3,
   "metadata": {},
   "outputs": [
    {
     "data": {
      "text/plain": [
       "id              int64\n",
       "dialect        object\n",
       "transformed     int64\n",
       "fineText       object\n",
       "dtype: object"
      ]
     },
     "execution_count": 3,
     "metadata": {},
     "output_type": "execute_result"
    }
   ],
   "source": [
    "# Data type of each column\n",
    "data.dtypes"
   ]
  },
  {
   "cell_type": "code",
   "execution_count": 4,
   "metadata": {},
   "outputs": [
    {
     "data": {
      "text/plain": [
       "id             0\n",
       "dialect        0\n",
       "transformed    0\n",
       "fineText       9\n",
       "dtype: int64"
      ]
     },
     "execution_count": 4,
     "metadata": {},
     "output_type": "execute_result"
    }
   ],
   "source": [
    "# Missing values in the data\n",
    "nullData= data.isnull().sum()\n",
    "nullData"
   ]
  },
  {
   "cell_type": "code",
   "execution_count": 5,
   "metadata": {},
   "outputs": [
    {
     "data": {
      "text/plain": [
       "id             0.0\n",
       "dialect        0.0\n",
       "transformed    0.0\n",
       "fineText       0.0\n",
       "dtype: float64"
      ]
     },
     "execution_count": 5,
     "metadata": {},
     "output_type": "execute_result"
    }
   ],
   "source": [
    "# Dropping the null values in the data\n",
    "data= data.dropna(axis=0)\n",
    "# Ensuring that there are no missing values\n",
    "data.isnull().sum() / data.shape[0] * 100"
   ]
  },
  {
   "cell_type": "code",
   "execution_count": 6,
   "metadata": {},
   "outputs": [
    {
     "name": "stderr",
     "output_type": "stream",
     "text": [
      "/var/folders/_m/2b51_hvs78l5wwx7k1rkzlym0000gn/T/ipykernel_1138/246733476.py:2: SettingWithCopyWarning: \n",
      "A value is trying to be set on a copy of a slice from a DataFrame.\n",
      "Try using .loc[row_indexer,col_indexer] = value instead\n",
      "\n",
      "See the caveats in the documentation: https://pandas.pydata.org/pandas-docs/stable/user_guide/indexing.html#returning-a-view-versus-a-copy\n",
      "  data['fineText'] = data['fineText'].apply(lambda x: [str(word.split()) for word in x.split()])\n",
      "/var/folders/_m/2b51_hvs78l5wwx7k1rkzlym0000gn/T/ipykernel_1138/246733476.py:3: SettingWithCopyWarning: \n",
      "A value is trying to be set on a copy of a slice from a DataFrame.\n",
      "Try using .loc[row_indexer,col_indexer] = value instead\n",
      "\n",
      "See the caveats in the documentation: https://pandas.pydata.org/pandas-docs/stable/user_guide/indexing.html#returning-a-view-versus-a-copy\n",
      "  data['fineText'] = data['fineText'].apply(lambda x: ' '.join(map(str, x)))\n"
     ]
    },
    {
     "data": {
      "text/html": [
       "<div>\n",
       "<style scoped>\n",
       "    .dataframe tbody tr th:only-of-type {\n",
       "        vertical-align: middle;\n",
       "    }\n",
       "\n",
       "    .dataframe tbody tr th {\n",
       "        vertical-align: top;\n",
       "    }\n",
       "\n",
       "    .dataframe thead th {\n",
       "        text-align: right;\n",
       "    }\n",
       "</style>\n",
       "<table border=\"1\" class=\"dataframe\">\n",
       "  <thead>\n",
       "    <tr style=\"text-align: right;\">\n",
       "      <th></th>\n",
       "      <th>id</th>\n",
       "      <th>dialect</th>\n",
       "      <th>transformed</th>\n",
       "      <th>fineText</th>\n",
       "    </tr>\n",
       "  </thead>\n",
       "  <tbody>\n",
       "    <tr>\n",
       "      <th>0</th>\n",
       "      <td>939598542259277824</td>\n",
       "      <td>IQ</td>\n",
       "      <td>0</td>\n",
       "      <td>['مثل'] ['ما'] ['داعش'] ['فجر'] ['تاريخ'] ['اج...</td>\n",
       "    </tr>\n",
       "    <tr>\n",
       "      <th>1</th>\n",
       "      <td>869345568534941696</td>\n",
       "      <td>IQ</td>\n",
       "      <td>0</td>\n",
       "      <td>['احنا'] ['سنه'] ['وحق'] ['الله'] ['منفرق'] ['...</td>\n",
       "    </tr>\n",
       "    <tr>\n",
       "      <th>2</th>\n",
       "      <td>936739253412917248</td>\n",
       "      <td>IQ</td>\n",
       "      <td>0</td>\n",
       "      <td>['الكاوليه'] ['هنود'] ['مو'] ['عرب'] ['خلك'] [...</td>\n",
       "    </tr>\n",
       "    <tr>\n",
       "      <th>3</th>\n",
       "      <td>995964915583156224</td>\n",
       "      <td>IQ</td>\n",
       "      <td>0</td>\n",
       "      <td>['عليمن'] ['انطلع'] ['حركتنه'] ['بس'] ['ريد'] ...</td>\n",
       "    </tr>\n",
       "    <tr>\n",
       "      <th>4</th>\n",
       "      <td>633976940433510400</td>\n",
       "      <td>IQ</td>\n",
       "      <td>0</td>\n",
       "      <td>['شيلوو'] ['اشتهر'] ['حسونى'] ['مع'] ['نور'] [...</td>\n",
       "    </tr>\n",
       "    <tr>\n",
       "      <th>...</th>\n",
       "      <td>...</td>\n",
       "      <td>...</td>\n",
       "      <td>...</td>\n",
       "      <td>...</td>\n",
       "    </tr>\n",
       "    <tr>\n",
       "      <th>17995</th>\n",
       "      <td>1153015108106444800</td>\n",
       "      <td>BH</td>\n",
       "      <td>17</td>\n",
       "      <td>['اى'] ['حتى'] ['الطير'] ['صايدتنه'] ['عدل']</td>\n",
       "    </tr>\n",
       "    <tr>\n",
       "      <th>17996</th>\n",
       "      <td>1015716046085468160</td>\n",
       "      <td>BH</td>\n",
       "      <td>17</td>\n",
       "      <td>['اشتكت'] ['لزوجها'] ['احس'] ['انى'] ['متضايقه...</td>\n",
       "    </tr>\n",
       "    <tr>\n",
       "      <th>17997</th>\n",
       "      <td>1016457209851580416</td>\n",
       "      <td>BH</td>\n",
       "      <td>17</td>\n",
       "      <td>['انت'] ['القمر'] ['بوسط'] ['ليلى'] ['انت'] ['...</td>\n",
       "    </tr>\n",
       "    <tr>\n",
       "      <th>17998</th>\n",
       "      <td>1153244931269566464</td>\n",
       "      <td>BH</td>\n",
       "      <td>17</td>\n",
       "      <td>['عجيبه'] ['الصراحه'] ['ويامنظر'] ['الطبيعه'] ...</td>\n",
       "    </tr>\n",
       "    <tr>\n",
       "      <th>17999</th>\n",
       "      <td>1157361172238262272</td>\n",
       "      <td>BH</td>\n",
       "      <td>17</td>\n",
       "      <td>['حق'] ['على'] ['بحر'] ['كان'] ['مشهور'] ['بس'...</td>\n",
       "    </tr>\n",
       "  </tbody>\n",
       "</table>\n",
       "<p>17991 rows × 4 columns</p>\n",
       "</div>"
      ],
      "text/plain": [
       "                        id dialect  transformed  \\\n",
       "0       939598542259277824      IQ            0   \n",
       "1       869345568534941696      IQ            0   \n",
       "2       936739253412917248      IQ            0   \n",
       "3       995964915583156224      IQ            0   \n",
       "4       633976940433510400      IQ            0   \n",
       "...                    ...     ...          ...   \n",
       "17995  1153015108106444800      BH           17   \n",
       "17996  1015716046085468160      BH           17   \n",
       "17997  1016457209851580416      BH           17   \n",
       "17998  1153244931269566464      BH           17   \n",
       "17999  1157361172238262272      BH           17   \n",
       "\n",
       "                                                fineText  \n",
       "0      ['مثل'] ['ما'] ['داعش'] ['فجر'] ['تاريخ'] ['اج...  \n",
       "1      ['احنا'] ['سنه'] ['وحق'] ['الله'] ['منفرق'] ['...  \n",
       "2      ['الكاوليه'] ['هنود'] ['مو'] ['عرب'] ['خلك'] [...  \n",
       "3      ['عليمن'] ['انطلع'] ['حركتنه'] ['بس'] ['ريد'] ...  \n",
       "4      ['شيلوو'] ['اشتهر'] ['حسونى'] ['مع'] ['نور'] [...  \n",
       "...                                                  ...  \n",
       "17995       ['اى'] ['حتى'] ['الطير'] ['صايدتنه'] ['عدل']  \n",
       "17996  ['اشتكت'] ['لزوجها'] ['احس'] ['انى'] ['متضايقه...  \n",
       "17997  ['انت'] ['القمر'] ['بوسط'] ['ليلى'] ['انت'] ['...  \n",
       "17998  ['عجيبه'] ['الصراحه'] ['ويامنظر'] ['الطبيعه'] ...  \n",
       "17999  ['حق'] ['على'] ['بحر'] ['كان'] ['مشهور'] ['بس'...  \n",
       "\n",
       "[17991 rows x 4 columns]"
      ]
     },
     "execution_count": 6,
     "metadata": {},
     "output_type": "execute_result"
    }
   ],
   "source": [
    "# Putting each word in an array, so the sentence would be array of array of words\n",
    "data['fineText'] = data['fineText'].apply(lambda x: [str(word.split()) for word in x.split()]) \n",
    "data['fineText'] = data['fineText'].apply(lambda x: ' '.join(map(str, x)))\n",
    "data"
   ]
  },
  {
   "cell_type": "code",
   "execution_count": 8,
   "metadata": {},
   "outputs": [],
   "source": [
    "# Performing embedding using and storing the embedding in the dataset\n",
    "vectorizer = TfidfVectorizer()\n",
    "embeddings = vectorizer.fit_transform(data['fineText'])\n"
   ]
  },
  {
   "attachments": {},
   "cell_type": "markdown",
   "metadata": {},
   "source": [
    "RNN model:"
   ]
  },
  {
   "cell_type": "code",
   "execution_count": 9,
   "metadata": {},
   "outputs": [],
   "source": [
    "# Importing Libraries:\n",
    "from sklearn.model_selection import train_test_split, GridSearchCV, StratifiedKFold\n",
    "from sklearn import metrics\n",
    "from sklearn.metrics import f1_score\n",
    "from keras.models import Sequential\n",
    "from keras.optimizers import Adam, SGD, RMSprop\n",
    "from keras.layers import Dense, SimpleRNN, Dropout,Flatten\n",
    "from scikeras.wrappers import KerasClassifier\n",
    "import matplotlib.pyplot as plt\n"
   ]
  },
  {
   "cell_type": "code",
   "execution_count": 9,
   "metadata": {},
   "outputs": [
    {
     "data": {
      "text/plain": [
       "'import tensorflow as tf\\nimport tensorflow.python.keras.backend as K \\nsess = K.get_session()'"
      ]
     },
     "execution_count": 9,
     "metadata": {},
     "output_type": "execute_result"
    }
   ],
   "source": [
    "'''import tensorflow as tf\n",
    "import tensorflow.python.keras.backend as K \n",
    "sess = K.get_session()'''"
   ]
  },
  {
   "cell_type": "code",
   "execution_count": 10,
   "metadata": {},
   "outputs": [],
   "source": [
    "X_train, X_test, y_train, y_test = train_test_split(embeddings, data['transformed'], test_size=0.2, random_state=42)"
   ]
  },
  {
   "cell_type": "code",
   "execution_count": 11,
   "metadata": {},
   "outputs": [],
   "source": [
    "# Splitting of data to train and test\n",
    "X_train, X_test, y_train, y_test = train_test_split(embeddings, data['transformed'], test_size=0.2, random_state=1)\n",
    "\n",
    "# Converting the splitted data to arrays\n",
    "X_train= X_train.toarray()\n",
    "X_test=X_test.toarray()\n",
    "\n",
    "# Converting the X_train and X_test to type float as they are written 0. not 0.0 \n",
    "# Reshaping them back to their original shape as they were flattened \n",
    "X_train=np.asarray(X_train).astype('float32').reshape(X_train.shape[0],1,X_train.shape[1])\n",
    "X_test=np.asarray(X_test).astype('float32').reshape(X_test.shape[0],1,X_test.shape[1])\n",
    "\n",
    "# Encoding the y_train and y_test:\n",
    "y_train= np.array(y_train)\n",
    "y_train_hot=np.zeros((y_train.size,y_train.max()+1))\n",
    "y_train_hot[np.arange(y_train.size),y_train]=1\n",
    "\n",
    "y_test= np.array(y_test)\n",
    "y_test_hot=np.zeros((y_test.size,y_test.max()+1))\n",
    "y_test_hot[np.arange(y_test.size),y_test]=1"
   ]
  },
  {
   "cell_type": "code",
   "execution_count": 28,
   "metadata": {},
   "outputs": [
    {
     "name": "stdout",
     "output_type": "stream",
     "text": [
      "Epoch 1/4\n",
      "450/450 [==============================] - 8s 16ms/step - loss: 2.7301 - accuracy: 0.1123\n",
      "Epoch 2/4\n",
      "450/450 [==============================] - 7s 16ms/step - loss: 2.1174 - accuracy: 0.2454\n",
      "Epoch 3/4\n",
      "450/450 [==============================] - 7s 16ms/step - loss: 1.4254 - accuracy: 0.4705\n",
      "Epoch 4/4\n",
      "450/450 [==============================] - 7s 16ms/step - loss: 0.8425 - accuracy: 0.7050\n"
     ]
    },
    {
     "data": {
      "text/plain": [
       "<keras.src.callbacks.History at 0x2a58050d0>"
      ]
     },
     "execution_count": 28,
     "metadata": {},
     "output_type": "execute_result"
    }
   ],
   "source": [
    "# Defining RNN model\n",
    "model = Sequential()\n",
    "model.add(SimpleRNN(128,return_sequences=True))\n",
    "model.add(SimpleRNN(64))\n",
    "model.add(Dense(units=128, activation='relu'))\n",
    "model.add(Dense(units=256, activation='relu'))\n",
    "model.add(Dense(units=512, activation='relu'))\n",
    "model.add(Dense(units=1024, activation='relu'))\n",
    "model.add(Dropout(0.5))\n",
    "model.add(Flatten())\n",
    "model.add(Dense(units=18, activation='softmax'))\n",
    "model.compile(loss='categorical_crossentropy', optimizer='adam',metrics=['accuracy'])\n",
    "model.fit(X_train, y_train_hot,epochs=4)"
   ]
  },
  {
   "cell_type": "code",
   "execution_count": 25,
   "metadata": {},
   "outputs": [
    {
     "name": "stdout",
     "output_type": "stream",
     "text": [
      "Epoch 1/10\n",
      "360/360 [==============================] - 6s 17ms/step - loss: 0.0396 - accuracy: 0.9895\n",
      "Epoch 2/10\n",
      "360/360 [==============================] - 6s 16ms/step - loss: 0.0330 - accuracy: 0.9910\n",
      "Epoch 3/10\n",
      "360/360 [==============================] - 6s 15ms/step - loss: 0.0257 - accuracy: 0.9929\n",
      "Epoch 4/10\n",
      "360/360 [==============================] - 6s 16ms/step - loss: 0.0348 - accuracy: 0.9918\n",
      "Epoch 5/10\n",
      "360/360 [==============================] - 5s 15ms/step - loss: 0.0648 - accuracy: 0.9857\n",
      "Epoch 6/10\n",
      "360/360 [==============================] - 6s 15ms/step - loss: 0.0471 - accuracy: 0.9894\n",
      "Epoch 7/10\n",
      "360/360 [==============================] - 5s 15ms/step - loss: 0.0250 - accuracy: 0.9933\n",
      "Epoch 8/10\n",
      "360/360 [==============================] - 6s 16ms/step - loss: 0.0200 - accuracy: 0.9961\n",
      "Epoch 9/10\n",
      "360/360 [==============================] - 6s 15ms/step - loss: 0.0142 - accuracy: 0.9964\n",
      "Epoch 10/10\n",
      "360/360 [==============================] - 6s 16ms/step - loss: 0.0204 - accuracy: 0.9959\n"
     ]
    },
    {
     "data": {
      "text/plain": [
       "<keras.src.callbacks.History at 0x2a7cf05e0>"
      ]
     },
     "execution_count": 25,
     "metadata": {},
     "output_type": "execute_result"
    }
   ],
   "source": [
    "model2 = Sequential()\n",
    "model2.add(SimpleRNN(128,return_sequences=True))\n",
    "model2.add(SimpleRNN(64))\n",
    "model2.add(Dense(units=128, activation='relu'))\n",
    "model2.add(Dense(units=256, activation='relu'))\n",
    "model2.add(Dropout(0.8))\n",
    "model2.add(Flatten())\n",
    "model2.add(Dense(units=18, activation='sigmoid'))\n",
    "model2.compile(loss='categorical_crossentropy', optimizer='SGD',metrics=['accuracy'])\n",
    "model.fit(X_train, y_train_hot,batch_size=40,epochs=10)"
   ]
  },
  {
   "cell_type": "code",
   "execution_count": 30,
   "metadata": {},
   "outputs": [
    {
     "name": "stdout",
     "output_type": "stream",
     "text": [
      "113/113 [==============================] - 1s 5ms/step - loss: 2.8990 - accuracy: 0.2365\n",
      "Test loss: 289.900541305542 %\n",
      "Test accuracy: 23.6454576253891 %\n",
      "113/113 [==============================] - 1s 4ms/step\n",
      "F1 score: 0.2459667711470684\n"
     ]
    }
   ],
   "source": [
    "# Evaluate the model on the test data\n",
    "loss, accuracy= model.evaluate(X_test, y_test_hot)\n",
    "print('Test loss:', loss*100,'%')\n",
    "print('Test accuracy:', accuracy*100,'%')\n",
    "y_pred = model.predict(X_test)\n",
    "y_pred = np.argmax(y_pred, axis=1)\n",
    "y_true = np.argmax(y_test_hot, axis=1)\n",
    "f1 = f1_score(y_true, y_pred,average='weighted')\n",
    "print(\"F1 score:\", f1)"
   ]
  },
  {
   "cell_type": "code",
   "execution_count": 29,
   "metadata": {},
   "outputs": [
    {
     "name": "stdout",
     "output_type": "stream",
     "text": [
      "113/113 [==============================] - 0s 4ms/step - loss: 2.8904 - accuracy: 0.0558\n",
      "Test loss: 289.04130458831787 %\n",
      "Test accuracy: 5.584884807467461 %\n",
      "113/113 [==============================] - 1s 4ms/step\n",
      "F1 score: 0.2459667711470684\n"
     ]
    }
   ],
   "source": [
    "# Evaluate the model on the test data\n",
    "loss, accuracy= model2.evaluate(X_test, y_test_hot)\n",
    "print('Test loss:', loss*100,'%')\n",
    "print('Test accuracy:', accuracy*100,'%')\n",
    "y_pred = model.predict(X_test)\n",
    "y_pred = np.argmax(y_pred, axis=1)\n",
    "y_true = np.argmax(y_test_hot, axis=1)\n",
    "f1 = f1_score(y_true, y_pred,average='weighted')\n",
    "print(\"F1 score:\", f1)"
   ]
  },
  {
   "cell_type": "code",
   "execution_count": 31,
   "metadata": {},
   "outputs": [
    {
     "name": "stdout",
     "output_type": "stream",
     "text": [
      "              precision    recall  f1-score   support\n",
      "\n",
      "     class_0       0.47      0.28      0.35       202\n",
      "     class_1       0.30      0.32      0.31       177\n",
      "     class_2       0.52      0.11      0.18       206\n",
      "     class_3       0.16      0.22      0.18       210\n",
      "     class_4       0.27      0.27      0.27       202\n",
      "     class_5       0.40      0.31      0.35       202\n",
      "     class_6       0.16      0.24      0.19       197\n",
      "     class_7       0.54      0.36      0.43       196\n",
      "     class_8       0.17      0.16      0.17       215\n",
      "     class_9       0.09      0.26      0.14       204\n",
      "    class_10       0.32      0.37      0.34       186\n",
      "    class_11       0.37      0.38      0.38       193\n",
      "    class_12       0.42      0.10      0.16       198\n",
      "    class_13       0.21      0.17      0.19       201\n",
      "    class_14       0.14      0.15      0.14       213\n",
      "    class_15       0.93      0.23      0.37       184\n",
      "    class_16       0.20      0.13      0.15       206\n",
      "    class_17       0.14      0.25      0.18       207\n",
      "\n",
      "    accuracy                           0.24      3599\n",
      "   macro avg       0.32      0.24      0.25      3599\n",
      "weighted avg       0.32      0.24      0.25      3599\n",
      "\n"
     ]
    }
   ],
   "source": [
    "from sklearn.metrics import classification_report\n",
    "\n",
    "target_names = [\"class_{}\".format(i) for i in range(18)]\n",
    "print(classification_report(y_test, y_pred, target_names=target_names))"
   ]
  },
  {
   "cell_type": "code",
   "execution_count": 32,
   "metadata": {},
   "outputs": [
    {
     "data": {
      "image/png": "[encoded data removed]",
      "text/plain": [
       "<Figure size 640x480 with 2 Axes>"
      ]
     },
     "metadata": {},
     "output_type": "display_data"
    },
    {
     "data": {
      "text/plain": [
       "<Figure size 640x480 with 0 Axes>"
      ]
     },
     "metadata": {},
     "output_type": "display_data"
    }
   ],
   "source": [
    "cm = metrics.confusion_matrix(y_test, y_pred)\n",
    "cm_display = metrics.ConfusionMatrixDisplay(confusion_matrix=cm, display_labels=np.arange(18))\n",
    "cm_display.plot()\n",
    "plt.show()\n",
    "plt.savefig('ConfusionMatrixSVM.png')"
   ]
  }
 ],
 "metadata": {
  "kernelspec": {
   "display_name": "Python 3",
   "language": "python",
   "name": "python3"
  },
  "language_info": {
   "codemirror_mode": {
    "name": "ipython",
    "version": 3
   },
   "file_extension": ".py",
   "mimetype": "text/x-python",
   "name": "python",
   "nbconvert_exporter": "python",
   "pygments_lexer": "ipython3",
   "version": "3.9.6"
  },
  "orig_nbformat": 4
 },
 "nbformat": 4,
 "nbformat_minor": 2
}
