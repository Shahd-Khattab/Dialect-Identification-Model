{
 "cells": [
  {
   "cell_type": "code",
   "execution_count": 1,
   "metadata": {},
   "outputs": [],
   "source": [
    "# Importing the important libraries\n",
    "import pandas as pd \n",
    "import numpy as np\n",
    "from sklearn.feature_extraction.text import TfidfVectorizer\n",
    "from sklearn import metrics\n",
    "import matplotlib.pyplot as plt"
   ]
  },
  {
   "cell_type": "code",
   "execution_count": 2,
   "metadata": {},
   "outputs": [
    {
     "data": {
      "text/html": [
       "<div>\n",
       "<style scoped>\n",
       "    .dataframe tbody tr th:only-of-type {\n",
       "        vertical-align: middle;\n",
       "    }\n",
       "\n",
       "    .dataframe tbody tr th {\n",
       "        vertical-align: top;\n",
       "    }\n",
       "\n",
       "    .dataframe thead th {\n",
       "        text-align: right;\n",
       "    }\n",
       "</style>\n",
       "<table border=\"1\" class=\"dataframe\">\n",
       "  <thead>\n",
       "    <tr style=\"text-align: right;\">\n",
       "      <th></th>\n",
       "      <th>id</th>\n",
       "      <th>dialect</th>\n",
       "      <th>transformed</th>\n",
       "      <th>fineText</th>\n",
       "    </tr>\n",
       "  </thead>\n",
       "  <tbody>\n",
       "    <tr>\n",
       "      <th>0</th>\n",
       "      <td>939598542259277824</td>\n",
       "      <td>IQ</td>\n",
       "      <td>0</td>\n",
       "      <td>مثل ما داعش فجر تاريخ اجدادنا قبل سنه واحنه مع...</td>\n",
       "    </tr>\n",
       "    <tr>\n",
       "      <th>1</th>\n",
       "      <td>869345568534941696</td>\n",
       "      <td>IQ</td>\n",
       "      <td>0</td>\n",
       "      <td>احنا سنه وحق الله منفرق بس حسبى الله ونعم الوك...</td>\n",
       "    </tr>\n",
       "    <tr>\n",
       "      <th>2</th>\n",
       "      <td>936739253412917248</td>\n",
       "      <td>IQ</td>\n",
       "      <td>0</td>\n",
       "      <td>الكاوليه هنود مو عرب خلك غلابه عايشين بدون مشا...</td>\n",
       "    </tr>\n",
       "    <tr>\n",
       "      <th>3</th>\n",
       "      <td>995964915583156224</td>\n",
       "      <td>IQ</td>\n",
       "      <td>0</td>\n",
       "      <td>عليمن انطلع حركتنه بس ريد اذكر الزواج الى صدكو بى</td>\n",
       "    </tr>\n",
       "    <tr>\n",
       "      <th>4</th>\n",
       "      <td>633976940433510400</td>\n",
       "      <td>IQ</td>\n",
       "      <td>0</td>\n",
       "      <td>شيلوو اشتهر حسونى مع نور الزين والردح الزين</td>\n",
       "    </tr>\n",
       "    <tr>\n",
       "      <th>...</th>\n",
       "      <td>...</td>\n",
       "      <td>...</td>\n",
       "      <td>...</td>\n",
       "      <td>...</td>\n",
       "    </tr>\n",
       "    <tr>\n",
       "      <th>17995</th>\n",
       "      <td>1153015108106444800</td>\n",
       "      <td>BH</td>\n",
       "      <td>17</td>\n",
       "      <td>اى حتى الطير صايدتنه عدل</td>\n",
       "    </tr>\n",
       "    <tr>\n",
       "      <th>17996</th>\n",
       "      <td>1015716046085468160</td>\n",
       "      <td>BH</td>\n",
       "      <td>17</td>\n",
       "      <td>اشتكت لزوجها احس انى متضايقه فرد عليها الحنون ...</td>\n",
       "    </tr>\n",
       "    <tr>\n",
       "      <th>17997</th>\n",
       "      <td>1016457209851580416</td>\n",
       "      <td>BH</td>\n",
       "      <td>17</td>\n",
       "      <td>انت القمر بوسط ليلى انت مرى وحلمى انت النور لع...</td>\n",
       "    </tr>\n",
       "    <tr>\n",
       "      <th>17998</th>\n",
       "      <td>1153244931269566464</td>\n",
       "      <td>BH</td>\n",
       "      <td>17</td>\n",
       "      <td>عجيبه الصراحه ويامنظر الطبيعه تنسى كلشى الله ي...</td>\n",
       "    </tr>\n",
       "    <tr>\n",
       "      <th>17999</th>\n",
       "      <td>1157361172238262272</td>\n",
       "      <td>BH</td>\n",
       "      <td>17</td>\n",
       "      <td>حق على بحر كان مشهور بس عاش طول عمره فقير وعاد...</td>\n",
       "    </tr>\n",
       "  </tbody>\n",
       "</table>\n",
       "<p>18000 rows × 4 columns</p>\n",
       "</div>"
      ],
      "text/plain": [
       "                        id dialect  transformed  \\\n",
       "0       939598542259277824      IQ            0   \n",
       "1       869345568534941696      IQ            0   \n",
       "2       936739253412917248      IQ            0   \n",
       "3       995964915583156224      IQ            0   \n",
       "4       633976940433510400      IQ            0   \n",
       "...                    ...     ...          ...   \n",
       "17995  1153015108106444800      BH           17   \n",
       "17996  1015716046085468160      BH           17   \n",
       "17997  1016457209851580416      BH           17   \n",
       "17998  1153244931269566464      BH           17   \n",
       "17999  1157361172238262272      BH           17   \n",
       "\n",
       "                                                fineText  \n",
       "0      مثل ما داعش فجر تاريخ اجدادنا قبل سنه واحنه مع...  \n",
       "1      احنا سنه وحق الله منفرق بس حسبى الله ونعم الوك...  \n",
       "2      الكاوليه هنود مو عرب خلك غلابه عايشين بدون مشا...  \n",
       "3      عليمن انطلع حركتنه بس ريد اذكر الزواج الى صدكو بى  \n",
       "4            شيلوو اشتهر حسونى مع نور الزين والردح الزين  \n",
       "...                                                  ...  \n",
       "17995                           اى حتى الطير صايدتنه عدل  \n",
       "17996  اشتكت لزوجها احس انى متضايقه فرد عليها الحنون ...  \n",
       "17997  انت القمر بوسط ليلى انت مرى وحلمى انت النور لع...  \n",
       "17998  عجيبه الصراحه ويامنظر الطبيعه تنسى كلشى الله ي...  \n",
       "17999  حق على بحر كان مشهور بس عاش طول عمره فقير وعاد...  \n",
       "\n",
       "[18000 rows x 4 columns]"
      ]
     },
     "execution_count": 2,
     "metadata": {},
     "output_type": "execute_result"
    }
   ],
   "source": [
    "# Reading the data\n",
    "data= pd.read_csv(\"preprocessedData.csv\")\n",
    "data=data.drop(['Unnamed: 0'], axis=1)\n",
    "data"
   ]
  },
  {
   "cell_type": "code",
   "execution_count": 3,
   "metadata": {},
   "outputs": [
    {
     "data": {
      "text/plain": [
       "id              int64\n",
       "dialect        object\n",
       "transformed     int64\n",
       "fineText       object\n",
       "dtype: object"
      ]
     },
     "execution_count": 3,
     "metadata": {},
     "output_type": "execute_result"
    }
   ],
   "source": [
    "# Data type of each column\n",
    "data.dtypes"
   ]
  },
  {
   "cell_type": "code",
   "execution_count": 4,
   "metadata": {},
   "outputs": [
    {
     "data": {
      "text/plain": [
       "id             0\n",
       "dialect        0\n",
       "transformed    0\n",
       "fineText       9\n",
       "dtype: int64"
      ]
     },
     "execution_count": 4,
     "metadata": {},
     "output_type": "execute_result"
    }
   ],
   "source": [
    "# Missing values in the data\n",
    "nullData= data.isnull().sum()\n",
    "nullData"
   ]
  },
  {
   "cell_type": "code",
   "execution_count": 4,
   "metadata": {},
   "outputs": [
    {
     "data": {
      "text/plain": [
       "id             0.0\n",
       "dialect        0.0\n",
       "transformed    0.0\n",
       "fineText       0.0\n",
       "dtype: float64"
      ]
     },
     "execution_count": 4,
     "metadata": {},
     "output_type": "execute_result"
    }
   ],
   "source": [
    "# Dropping the null values in the data\n",
    "data= data.dropna(axis=0)\n",
    "# Ensuring that there are no missing values\n",
    "data.isnull().sum() / data.shape[0] * 100"
   ]
  },
  {
   "cell_type": "code",
   "execution_count": 5,
   "metadata": {},
   "outputs": [
    {
     "name": "stderr",
     "output_type": "stream",
     "text": [
      "/var/folders/_m/2b51_hvs78l5wwx7k1rkzlym0000gn/T/ipykernel_1447/246733476.py:2: SettingWithCopyWarning: \n",
      "A value is trying to be set on a copy of a slice from a DataFrame.\n",
      "Try using .loc[row_indexer,col_indexer] = value instead\n",
      "\n",
      "See the caveats in the documentation: https://pandas.pydata.org/pandas-docs/stable/user_guide/indexing.html#returning-a-view-versus-a-copy\n",
      "  data['fineText'] = data['fineText'].apply(lambda x: [str(word.split()) for word in x.split()])\n",
      "/var/folders/_m/2b51_hvs78l5wwx7k1rkzlym0000gn/T/ipykernel_1447/246733476.py:3: SettingWithCopyWarning: \n",
      "A value is trying to be set on a copy of a slice from a DataFrame.\n",
      "Try using .loc[row_indexer,col_indexer] = value instead\n",
      "\n",
      "See the caveats in the documentation: https://pandas.pydata.org/pandas-docs/stable/user_guide/indexing.html#returning-a-view-versus-a-copy\n",
      "  data['fineText'] = data['fineText'].apply(lambda x: ' '.join(map(str, x)))\n"
     ]
    },
    {
     "data": {
      "text/html": [
       "<div>\n",
       "<style scoped>\n",
       "    .dataframe tbody tr th:only-of-type {\n",
       "        vertical-align: middle;\n",
       "    }\n",
       "\n",
       "    .dataframe tbody tr th {\n",
       "        vertical-align: top;\n",
       "    }\n",
       "\n",
       "    .dataframe thead th {\n",
       "        text-align: right;\n",
       "    }\n",
       "</style>\n",
       "<table border=\"1\" class=\"dataframe\">\n",
       "  <thead>\n",
       "    <tr style=\"text-align: right;\">\n",
       "      <th></th>\n",
       "      <th>id</th>\n",
       "      <th>dialect</th>\n",
       "      <th>transformed</th>\n",
       "      <th>fineText</th>\n",
       "    </tr>\n",
       "  </thead>\n",
       "  <tbody>\n",
       "    <tr>\n",
       "      <th>0</th>\n",
       "      <td>939598542259277824</td>\n",
       "      <td>IQ</td>\n",
       "      <td>0</td>\n",
       "      <td>['مثل'] ['ما'] ['داعش'] ['فجر'] ['تاريخ'] ['اج...</td>\n",
       "    </tr>\n",
       "    <tr>\n",
       "      <th>1</th>\n",
       "      <td>869345568534941696</td>\n",
       "      <td>IQ</td>\n",
       "      <td>0</td>\n",
       "      <td>['احنا'] ['سنه'] ['وحق'] ['الله'] ['منفرق'] ['...</td>\n",
       "    </tr>\n",
       "    <tr>\n",
       "      <th>2</th>\n",
       "      <td>936739253412917248</td>\n",
       "      <td>IQ</td>\n",
       "      <td>0</td>\n",
       "      <td>['الكاوليه'] ['هنود'] ['مو'] ['عرب'] ['خلك'] [...</td>\n",
       "    </tr>\n",
       "    <tr>\n",
       "      <th>3</th>\n",
       "      <td>995964915583156224</td>\n",
       "      <td>IQ</td>\n",
       "      <td>0</td>\n",
       "      <td>['عليمن'] ['انطلع'] ['حركتنه'] ['بس'] ['ريد'] ...</td>\n",
       "    </tr>\n",
       "    <tr>\n",
       "      <th>4</th>\n",
       "      <td>633976940433510400</td>\n",
       "      <td>IQ</td>\n",
       "      <td>0</td>\n",
       "      <td>['شيلوو'] ['اشتهر'] ['حسونى'] ['مع'] ['نور'] [...</td>\n",
       "    </tr>\n",
       "    <tr>\n",
       "      <th>...</th>\n",
       "      <td>...</td>\n",
       "      <td>...</td>\n",
       "      <td>...</td>\n",
       "      <td>...</td>\n",
       "    </tr>\n",
       "    <tr>\n",
       "      <th>17995</th>\n",
       "      <td>1153015108106444800</td>\n",
       "      <td>BH</td>\n",
       "      <td>17</td>\n",
       "      <td>['اى'] ['حتى'] ['الطير'] ['صايدتنه'] ['عدل']</td>\n",
       "    </tr>\n",
       "    <tr>\n",
       "      <th>17996</th>\n",
       "      <td>1015716046085468160</td>\n",
       "      <td>BH</td>\n",
       "      <td>17</td>\n",
       "      <td>['اشتكت'] ['لزوجها'] ['احس'] ['انى'] ['متضايقه...</td>\n",
       "    </tr>\n",
       "    <tr>\n",
       "      <th>17997</th>\n",
       "      <td>1016457209851580416</td>\n",
       "      <td>BH</td>\n",
       "      <td>17</td>\n",
       "      <td>['انت'] ['القمر'] ['بوسط'] ['ليلى'] ['انت'] ['...</td>\n",
       "    </tr>\n",
       "    <tr>\n",
       "      <th>17998</th>\n",
       "      <td>1153244931269566464</td>\n",
       "      <td>BH</td>\n",
       "      <td>17</td>\n",
       "      <td>['عجيبه'] ['الصراحه'] ['ويامنظر'] ['الطبيعه'] ...</td>\n",
       "    </tr>\n",
       "    <tr>\n",
       "      <th>17999</th>\n",
       "      <td>1157361172238262272</td>\n",
       "      <td>BH</td>\n",
       "      <td>17</td>\n",
       "      <td>['حق'] ['على'] ['بحر'] ['كان'] ['مشهور'] ['بس'...</td>\n",
       "    </tr>\n",
       "  </tbody>\n",
       "</table>\n",
       "<p>17991 rows × 4 columns</p>\n",
       "</div>"
      ],
      "text/plain": [
       "                        id dialect  transformed  \\\n",
       "0       939598542259277824      IQ            0   \n",
       "1       869345568534941696      IQ            0   \n",
       "2       936739253412917248      IQ            0   \n",
       "3       995964915583156224      IQ            0   \n",
       "4       633976940433510400      IQ            0   \n",
       "...                    ...     ...          ...   \n",
       "17995  1153015108106444800      BH           17   \n",
       "17996  1015716046085468160      BH           17   \n",
       "17997  1016457209851580416      BH           17   \n",
       "17998  1153244931269566464      BH           17   \n",
       "17999  1157361172238262272      BH           17   \n",
       "\n",
       "                                                fineText  \n",
       "0      ['مثل'] ['ما'] ['داعش'] ['فجر'] ['تاريخ'] ['اج...  \n",
       "1      ['احنا'] ['سنه'] ['وحق'] ['الله'] ['منفرق'] ['...  \n",
       "2      ['الكاوليه'] ['هنود'] ['مو'] ['عرب'] ['خلك'] [...  \n",
       "3      ['عليمن'] ['انطلع'] ['حركتنه'] ['بس'] ['ريد'] ...  \n",
       "4      ['شيلوو'] ['اشتهر'] ['حسونى'] ['مع'] ['نور'] [...  \n",
       "...                                                  ...  \n",
       "17995       ['اى'] ['حتى'] ['الطير'] ['صايدتنه'] ['عدل']  \n",
       "17996  ['اشتكت'] ['لزوجها'] ['احس'] ['انى'] ['متضايقه...  \n",
       "17997  ['انت'] ['القمر'] ['بوسط'] ['ليلى'] ['انت'] ['...  \n",
       "17998  ['عجيبه'] ['الصراحه'] ['ويامنظر'] ['الطبيعه'] ...  \n",
       "17999  ['حق'] ['على'] ['بحر'] ['كان'] ['مشهور'] ['بس'...  \n",
       "\n",
       "[17991 rows x 4 columns]"
      ]
     },
     "execution_count": 5,
     "metadata": {},
     "output_type": "execute_result"
    }
   ],
   "source": [
    "# Putting each word in an array, so the sentence would be array of array of words\n",
    "data['fineText'] = data['fineText'].apply(lambda x: [str(word.split()) for word in x.split()]) \n",
    "data['fineText'] = data['fineText'].apply(lambda x: ' '.join(map(str, x)))\n",
    "data"
   ]
  },
  {
   "cell_type": "code",
   "execution_count": 6,
   "metadata": {},
   "outputs": [],
   "source": [
    "# Performing embedding using and storing the embedding in the dataset\n",
    "vectorizer = TfidfVectorizer()\n",
    "embeddings = vectorizer.fit_transform(data['fineText'])"
   ]
  },
  {
   "attachments": {},
   "cell_type": "markdown",
   "metadata": {},
   "source": [
    "SVM model:"
   ]
  },
  {
   "cell_type": "code",
   "execution_count": 7,
   "metadata": {},
   "outputs": [],
   "source": [
    "# Importing Libraries:\n",
    "from sklearn.model_selection import train_test_split\n",
    "from sklearn.naive_bayes import MultinomialNB\n",
    "from sklearn.metrics import classification_report, accuracy_score\n",
    "from sklearn.feature_extraction.text import TfidfVectorizer\n",
    "from sklearn.model_selection import GridSearchCV\n",
    "from sklearn.svm import SVC\n",
    "from sklearn.model_selection import GridSearchCV, StratifiedKFold\n",
    "from sklearn import svm\n",
    "from sklearn.model_selection import cross_val_score, cross_val_predict\n",
    "from sklearn.datasets import make_classification\n",
    "from sklearn import metrics\n",
    "from sklearn import model_selection, naive_bayes, svm\n",
    "from sklearn.preprocessing import LabelEncoder\n",
    "from sklearn.metrics import f1_score\n",
    "import scipy.sparse as sp\n"
   ]
  },
  {
   "cell_type": "code",
   "execution_count": 8,
   "metadata": {},
   "outputs": [],
   "source": [
    "X_train, X_test, y_train, y_test = train_test_split(embeddings, data['transformed'], test_size=0.2, random_state=42)"
   ]
  },
  {
   "cell_type": "code",
   "execution_count": 11,
   "metadata": {},
   "outputs": [
    {
     "data": {
      "text/plain": [
       "(14392, 58543)"
      ]
     },
     "execution_count": 11,
     "metadata": {},
     "output_type": "execute_result"
    }
   ],
   "source": [
    "X_train.toarray().shape\n"
   ]
  },
  {
   "cell_type": "code",
   "execution_count": null,
   "metadata": {},
   "outputs": [
    {
     "data": {
      "text/html": [
       "<style>#sk-container-id-1 {color: black;background-color: white;}#sk-container-id-1 pre{padding: 0;}#sk-container-id-1 div.sk-toggleable {background-color: white;}#sk-container-id-1 label.sk-toggleable__label {cursor: pointer;display: block;width: 100%;margin-bottom: 0;padding: 0.3em;box-sizing: border-box;text-align: center;}#sk-container-id-1 label.sk-toggleable__label-arrow:before {content: \"▸\";float: left;margin-right: 0.25em;color: #696969;}#sk-container-id-1 label.sk-toggleable__label-arrow:hover:before {color: black;}#sk-container-id-1 div.sk-estimator:hover label.sk-toggleable__label-arrow:before {color: black;}#sk-container-id-1 div.sk-toggleable__content {max-height: 0;max-width: 0;overflow: hidden;text-align: left;background-color: #f0f8ff;}#sk-container-id-1 div.sk-toggleable__content pre {margin: 0.2em;color: black;border-radius: 0.25em;background-color: #f0f8ff;}#sk-container-id-1 input.sk-toggleable__control:checked~div.sk-toggleable__content {max-height: 200px;max-width: 100%;overflow: auto;}#sk-container-id-1 input.sk-toggleable__control:checked~label.sk-toggleable__label-arrow:before {content: \"▾\";}#sk-container-id-1 div.sk-estimator input.sk-toggleable__control:checked~label.sk-toggleable__label {background-color: #d4ebff;}#sk-container-id-1 div.sk-label input.sk-toggleable__control:checked~label.sk-toggleable__label {background-color: #d4ebff;}#sk-container-id-1 input.sk-hidden--visually {border: 0;clip: rect(1px 1px 1px 1px);clip: rect(1px, 1px, 1px, 1px);height: 1px;margin: -1px;overflow: hidden;padding: 0;position: absolute;width: 1px;}#sk-container-id-1 div.sk-estimator {font-family: monospace;background-color: #f0f8ff;border: 1px dotted black;border-radius: 0.25em;box-sizing: border-box;margin-bottom: 0.5em;}#sk-container-id-1 div.sk-estimator:hover {background-color: #d4ebff;}#sk-container-id-1 div.sk-parallel-item::after {content: \"\";width: 100%;border-bottom: 1px solid gray;flex-grow: 1;}#sk-container-id-1 div.sk-label:hover label.sk-toggleable__label {background-color: #d4ebff;}#sk-container-id-1 div.sk-serial::before {content: \"\";position: absolute;border-left: 1px solid gray;box-sizing: border-box;top: 0;bottom: 0;left: 50%;z-index: 0;}#sk-container-id-1 div.sk-serial {display: flex;flex-direction: column;align-items: center;background-color: white;padding-right: 0.2em;padding-left: 0.2em;position: relative;}#sk-container-id-1 div.sk-item {position: relative;z-index: 1;}#sk-container-id-1 div.sk-parallel {display: flex;align-items: stretch;justify-content: center;background-color: white;position: relative;}#sk-container-id-1 div.sk-item::before, #sk-container-id-1 div.sk-parallel-item::before {content: \"\";position: absolute;border-left: 1px solid gray;box-sizing: border-box;top: 0;bottom: 0;left: 50%;z-index: -1;}#sk-container-id-1 div.sk-parallel-item {display: flex;flex-direction: column;z-index: 1;position: relative;background-color: white;}#sk-container-id-1 div.sk-parallel-item:first-child::after {align-self: flex-end;width: 50%;}#sk-container-id-1 div.sk-parallel-item:last-child::after {align-self: flex-start;width: 50%;}#sk-container-id-1 div.sk-parallel-item:only-child::after {width: 0;}#sk-container-id-1 div.sk-dashed-wrapped {border: 1px dashed gray;margin: 0 0.4em 0.5em 0.4em;box-sizing: border-box;padding-bottom: 0.4em;background-color: white;}#sk-container-id-1 div.sk-label label {font-family: monospace;font-weight: bold;display: inline-block;line-height: 1.2em;}#sk-container-id-1 div.sk-label-container {text-align: center;}#sk-container-id-1 div.sk-container {/* jupyter's `normalize.less` sets `[hidden] { display: none; }` but bootstrap.min.css set `[hidden] { display: none !important; }` so we also need the `!important` here to be able to override the default hidden behavior on the sphinx rendered scikit-learn.org. See: https://github.com/scikit-learn/scikit-learn/issues/21755 */display: inline-block !important;position: relative;}#sk-container-id-1 div.sk-text-repr-fallback {display: none;}</style><div id=\"sk-container-id-1\" class=\"sk-top-container\"><div class=\"sk-text-repr-fallback\"><pre>SVC()</pre><b>In a Jupyter environment, please rerun this cell to show the HTML representation or trust the notebook. <br />On GitHub, the HTML representation is unable to render, please try loading this page with nbviewer.org.</b></div><div class=\"sk-container\" hidden><div class=\"sk-item\"><div class=\"sk-estimator sk-toggleable\"><input class=\"sk-toggleable__control sk-hidden--visually\" id=\"sk-estimator-id-1\" type=\"checkbox\" checked><label for=\"sk-estimator-id-1\" class=\"sk-toggleable__label sk-toggleable__label-arrow\">SVC</label><div class=\"sk-toggleable__content\"><pre>SVC()</pre></div></div></div></div></div>"
      ],
      "text/plain": [
       "SVC()"
      ]
     },
     "execution_count": 10,
     "metadata": {},
     "output_type": "execute_result"
    }
   ],
   "source": [
    "svm_model = svm.SVC()\n",
    "svm_model.fit(X_train, y_train)"
   ]
  },
  {
   "cell_type": "code",
   "execution_count": null,
   "metadata": {},
   "outputs": [
    {
     "name": "stderr",
     "output_type": "stream",
     "text": [
      "/Users/lojinkhattab/Library/Python/3.9/lib/python/site-packages/sklearn/model_selection/_validation.py:378: FitFailedWarning: \n",
      "250 fits failed out of a total of 375.\n",
      "The score on these train-test partitions for these parameters will be set to nan.\n",
      "If these failures are not expected, you can try to debug them by setting error_score='raise'.\n",
      "\n",
      "Below are more details about the failures:\n",
      "--------------------------------------------------------------------------------\n",
      "125 fits failed with the following error:\n",
      "Traceback (most recent call last):\n",
      "  File \"/Users/lojinkhattab/Library/Python/3.9/lib/python/site-packages/sklearn/model_selection/_validation.py\", line 686, in _fit_and_score\n",
      "    estimator.fit(X_train, y_train, **fit_params)\n",
      "  File \"/Users/lojinkhattab/Library/Python/3.9/lib/python/site-packages/sklearn/svm/_base.py\", line 180, in fit\n",
      "    self._validate_params()\n",
      "  File \"/Users/lojinkhattab/Library/Python/3.9/lib/python/site-packages/sklearn/base.py\", line 600, in _validate_params\n",
      "    validate_parameter_constraints(\n",
      "  File \"/Users/lojinkhattab/Library/Python/3.9/lib/python/site-packages/sklearn/utils/_param_validation.py\", line 97, in validate_parameter_constraints\n",
      "    raise InvalidParameterError(\n",
      "sklearn.utils._param_validation.InvalidParameterError: The 'kernel' parameter of SVC must be a str among {'rbf', 'poly', 'sigmoid', 'precomputed', 'linear'} or a callable. Got 'tanh' instead.\n",
      "\n",
      "--------------------------------------------------------------------------------\n",
      "125 fits failed with the following error:\n",
      "Traceback (most recent call last):\n",
      "  File \"/Users/lojinkhattab/Library/Python/3.9/lib/python/site-packages/sklearn/model_selection/_validation.py\", line 686, in _fit_and_score\n",
      "    estimator.fit(X_train, y_train, **fit_params)\n",
      "  File \"/Users/lojinkhattab/Library/Python/3.9/lib/python/site-packages/sklearn/svm/_base.py\", line 180, in fit\n",
      "    self._validate_params()\n",
      "  File \"/Users/lojinkhattab/Library/Python/3.9/lib/python/site-packages/sklearn/base.py\", line 600, in _validate_params\n",
      "    validate_parameter_constraints(\n",
      "  File \"/Users/lojinkhattab/Library/Python/3.9/lib/python/site-packages/sklearn/utils/_param_validation.py\", line 97, in validate_parameter_constraints\n",
      "    raise InvalidParameterError(\n",
      "sklearn.utils._param_validation.InvalidParameterError: The 'kernel' parameter of SVC must be a str among {'rbf', 'poly', 'sigmoid', 'precomputed', 'linear'} or a callable. Got 'softmax' instead.\n",
      "\n",
      "  warnings.warn(some_fits_failed_message, FitFailedWarning)\n",
      "/Users/lojinkhattab/Library/Python/3.9/lib/python/site-packages/sklearn/model_selection/_search.py:952: UserWarning: One or more of the test scores are non-finite: [       nan 0.05704557        nan        nan 0.06642576        nan\n",
      "        nan 0.05704557        nan        nan 0.05704557        nan\n",
      "        nan 0.05704557        nan        nan 0.06732911        nan\n",
      "        nan 0.3223313         nan        nan 0.05704557        nan\n",
      "        nan 0.05704557        nan        nan 0.05704557        nan\n",
      "        nan 0.32517999        nan        nan 0.29808218        nan\n",
      "        nan 0.06732911        nan        nan 0.05704557        nan\n",
      "        nan 0.05704557        nan        nan 0.3193434         nan\n",
      "        nan 0.28682562        nan        nan 0.32531893        nan\n",
      "        nan 0.06732911        nan        nan 0.05704557        nan\n",
      "        nan 0.31927393        nan        nan 0.28654767        nan\n",
      "        nan 0.31955185        nan        nan 0.32531893        nan\n",
      "        nan 0.06732911        nan]\n",
      "  warnings.warn(\n"
     ]
    },
    {
     "name": "stdout",
     "output_type": "stream",
     "text": [
      "Best Parameters: {'C': 100, 'gamma': 0.01, 'kernel': 'sigmoid'}\n",
      "Best Score: 0.32531892661169853\n"
     ]
    }
   ],
   "source": [
    "param_grid = {\n",
    "    'kernel': ['tanh', 'sigmoid','softmax'],\n",
    "    'C': [0.1, 1, 10, 100, 1000],\n",
    "    'gamma': [0.1, 1, 0.01, 0.001, 0.0001]\n",
    "}\n",
    "grid_search = GridSearchCV(estimator=svm_model, param_grid=param_grid, scoring='accuracy', cv=5)\n",
    "grid_search.fit(X_train, y_train)\n",
    "best_params = grid_search.best_params_\n",
    "best_score = grid_search.best_score_\n",
    "print(\"Best Parameters:\", best_params)\n",
    "print(\"Best Score:\", best_score)"
   ]
  },
  {
   "cell_type": "code",
   "execution_count": null,
   "metadata": {},
   "outputs": [
    {
     "data": {
      "text/html": [
       "<style>#sk-container-id-2 {color: black;background-color: white;}#sk-container-id-2 pre{padding: 0;}#sk-container-id-2 div.sk-toggleable {background-color: white;}#sk-container-id-2 label.sk-toggleable__label {cursor: pointer;display: block;width: 100%;margin-bottom: 0;padding: 0.3em;box-sizing: border-box;text-align: center;}#sk-container-id-2 label.sk-toggleable__label-arrow:before {content: \"▸\";float: left;margin-right: 0.25em;color: #696969;}#sk-container-id-2 label.sk-toggleable__label-arrow:hover:before {color: black;}#sk-container-id-2 div.sk-estimator:hover label.sk-toggleable__label-arrow:before {color: black;}#sk-container-id-2 div.sk-toggleable__content {max-height: 0;max-width: 0;overflow: hidden;text-align: left;background-color: #f0f8ff;}#sk-container-id-2 div.sk-toggleable__content pre {margin: 0.2em;color: black;border-radius: 0.25em;background-color: #f0f8ff;}#sk-container-id-2 input.sk-toggleable__control:checked~div.sk-toggleable__content {max-height: 200px;max-width: 100%;overflow: auto;}#sk-container-id-2 input.sk-toggleable__control:checked~label.sk-toggleable__label-arrow:before {content: \"▾\";}#sk-container-id-2 div.sk-estimator input.sk-toggleable__control:checked~label.sk-toggleable__label {background-color: #d4ebff;}#sk-container-id-2 div.sk-label input.sk-toggleable__control:checked~label.sk-toggleable__label {background-color: #d4ebff;}#sk-container-id-2 input.sk-hidden--visually {border: 0;clip: rect(1px 1px 1px 1px);clip: rect(1px, 1px, 1px, 1px);height: 1px;margin: -1px;overflow: hidden;padding: 0;position: absolute;width: 1px;}#sk-container-id-2 div.sk-estimator {font-family: monospace;background-color: #f0f8ff;border: 1px dotted black;border-radius: 0.25em;box-sizing: border-box;margin-bottom: 0.5em;}#sk-container-id-2 div.sk-estimator:hover {background-color: #d4ebff;}#sk-container-id-2 div.sk-parallel-item::after {content: \"\";width: 100%;border-bottom: 1px solid gray;flex-grow: 1;}#sk-container-id-2 div.sk-label:hover label.sk-toggleable__label {background-color: #d4ebff;}#sk-container-id-2 div.sk-serial::before {content: \"\";position: absolute;border-left: 1px solid gray;box-sizing: border-box;top: 0;bottom: 0;left: 50%;z-index: 0;}#sk-container-id-2 div.sk-serial {display: flex;flex-direction: column;align-items: center;background-color: white;padding-right: 0.2em;padding-left: 0.2em;position: relative;}#sk-container-id-2 div.sk-item {position: relative;z-index: 1;}#sk-container-id-2 div.sk-parallel {display: flex;align-items: stretch;justify-content: center;background-color: white;position: relative;}#sk-container-id-2 div.sk-item::before, #sk-container-id-2 div.sk-parallel-item::before {content: \"\";position: absolute;border-left: 1px solid gray;box-sizing: border-box;top: 0;bottom: 0;left: 50%;z-index: -1;}#sk-container-id-2 div.sk-parallel-item {display: flex;flex-direction: column;z-index: 1;position: relative;background-color: white;}#sk-container-id-2 div.sk-parallel-item:first-child::after {align-self: flex-end;width: 50%;}#sk-container-id-2 div.sk-parallel-item:last-child::after {align-self: flex-start;width: 50%;}#sk-container-id-2 div.sk-parallel-item:only-child::after {width: 0;}#sk-container-id-2 div.sk-dashed-wrapped {border: 1px dashed gray;margin: 0 0.4em 0.5em 0.4em;box-sizing: border-box;padding-bottom: 0.4em;background-color: white;}#sk-container-id-2 div.sk-label label {font-family: monospace;font-weight: bold;display: inline-block;line-height: 1.2em;}#sk-container-id-2 div.sk-label-container {text-align: center;}#sk-container-id-2 div.sk-container {/* jupyter's `normalize.less` sets `[hidden] { display: none; }` but bootstrap.min.css set `[hidden] { display: none !important; }` so we also need the `!important` here to be able to override the default hidden behavior on the sphinx rendered scikit-learn.org. See: https://github.com/scikit-learn/scikit-learn/issues/21755 */display: inline-block !important;position: relative;}#sk-container-id-2 div.sk-text-repr-fallback {display: none;}</style><div id=\"sk-container-id-2\" class=\"sk-top-container\"><div class=\"sk-text-repr-fallback\"><pre>SVC(C=100, gamma=0.01, kernel=&#x27;sigmoid&#x27;)</pre><b>In a Jupyter environment, please rerun this cell to show the HTML representation or trust the notebook. <br />On GitHub, the HTML representation is unable to render, please try loading this page with nbviewer.org.</b></div><div class=\"sk-container\" hidden><div class=\"sk-item\"><div class=\"sk-estimator sk-toggleable\"><input class=\"sk-toggleable__control sk-hidden--visually\" id=\"sk-estimator-id-2\" type=\"checkbox\" checked><label for=\"sk-estimator-id-2\" class=\"sk-toggleable__label sk-toggleable__label-arrow\">SVC</label><div class=\"sk-toggleable__content\"><pre>SVC(C=100, gamma=0.01, kernel=&#x27;sigmoid&#x27;)</pre></div></div></div></div></div>"
      ],
      "text/plain": [
       "SVC(C=100, gamma=0.01, kernel='sigmoid')"
      ]
     },
     "execution_count": 12,
     "metadata": {},
     "output_type": "execute_result"
    }
   ],
   "source": [
    "# Fit the SVM model with the best parameters on the training data\n",
    "svm_model_best = SVC(**best_params)\n",
    "svm_model_best.fit(X_train, y_train)"
   ]
  },
  {
   "cell_type": "code",
   "execution_count": null,
   "metadata": {},
   "outputs": [
    {
     "name": "stdout",
     "output_type": "stream",
     "text": [
      "Accuracy: 33.75937760489025\n",
      "F-score: [0.48214286 0.38329238 0.3019802  0.25116279 0.31202046 0.4272997\n",
      " 0.20095694 0.49189189 0.26872247 0.21028037 0.36612022 0.55121951\n",
      " 0.4498645  0.21052632 0.23660714 0.5830721  0.26203209 0.1971831 ]\n"
     ]
    }
   ],
   "source": [
    "# Make predictions on the test data\n",
    "y_pred = svm_model_best.predict(X_test)\n",
    "accuracy = accuracy_score(np.array(y_test),y_pred)*100\n",
    "f_score=f1_score(y_test, y_pred, average=None)\n",
    "print(\"Accuracy:\", accuracy)\n",
    "print(\"F-score:\",f_score)"
   ]
  },
  {
   "attachments": {},
   "cell_type": "markdown",
   "metadata": {},
   "source": [
    "Confusion Matrix:"
   ]
  },
  {
   "cell_type": "code",
   "execution_count": null,
   "metadata": {},
   "outputs": [
    {
     "data": {
      "image/png": "[encoded data removed]",
      "text/plain": [
       "<Figure size 640x480 with 2 Axes>"
      ]
     },
     "metadata": {},
     "output_type": "display_data"
    },
    {
     "data": {
      "text/plain": [
       "<Figure size 640x480 with 0 Axes>"
      ]
     },
     "metadata": {},
     "output_type": "display_data"
    }
   ],
   "source": [
    "cm = metrics.confusion_matrix(y_test, y_pred)\n",
    "cm_display = metrics.ConfusionMatrixDisplay(confusion_matrix=cm, display_labels=np.arange(18))\n",
    "cm_display.plot()\n",
    "plt.show()\n",
    "plt.savefig('ConfusionMatrixSVM.png')"
   ]
  },
  {
   "cell_type": "code",
   "execution_count": null,
   "metadata": {},
   "outputs": [
    {
     "name": "stdout",
     "output_type": "stream",
     "text": [
      "              precision    recall  f1-score   support\n",
      "\n",
      "     class_0       0.41      0.58      0.48       187\n",
      "     class_1       0.38      0.39      0.38       199\n",
      "     class_2       0.31      0.29      0.30       209\n",
      "     class_3       0.23      0.27      0.25       200\n",
      "     class_4       0.37      0.27      0.31       226\n",
      "     class_5       0.53      0.36      0.43       201\n",
      "     class_6       0.19      0.21      0.20       199\n",
      "     class_7       0.54      0.46      0.49       200\n",
      "     class_8       0.23      0.31      0.27       194\n",
      "     class_9       0.21      0.21      0.21       218\n",
      "    class_10       0.39      0.35      0.37       194\n",
      "    class_11       0.55      0.55      0.55       206\n",
      "    class_12       0.49      0.41      0.45       200\n",
      "    class_13       0.21      0.22      0.21       195\n",
      "    class_14       0.21      0.27      0.24       196\n",
      "    class_15       0.67      0.52      0.58       180\n",
      "    class_16       0.31      0.23      0.26       217\n",
      "    class_17       0.17      0.24      0.20       178\n",
      "\n",
      "    accuracy                           0.34      3599\n",
      "   macro avg       0.36      0.34      0.34      3599\n",
      "weighted avg       0.36      0.34      0.34      3599\n",
      "\n"
     ]
    }
   ],
   "source": [
    "from sklearn.metrics import classification_report\n",
    "\n",
    "target_names = [\"class_{}\".format(i) for i in range(18)]\n",
    "print(classification_report(y_test, y_pred, target_names=target_names))"
   ]
  },
  {
   "cell_type": "code",
   "execution_count": null,
   "metadata": {},
   "outputs": [
    {
     "data": {
      "text/plain": [
       "['svm.joblib']"
      ]
     },
     "execution_count": 17,
     "metadata": {},
     "output_type": "execute_result"
    }
   ],
   "source": [
    "from joblib import dump\n",
    "dump(svm_model_best, 'svm.joblib')\n"
   ]
  }
 ],
 "metadata": {
  "kernelspec": {
   "display_name": "Python 3",
   "language": "python",
   "name": "python3"
  },
  "language_info": {
   "codemirror_mode": {
    "name": "ipython",
    "version": 3
   },
   "file_extension": ".py",
   "mimetype": "text/x-python",
   "name": "python",
   "nbconvert_exporter": "python",
   "pygments_lexer": "ipython3",
   "version": "3.9.6"
  },
  "orig_nbformat": 4
 },
 "nbformat": 4,
 "nbformat_minor": 2
}
