{
 "cells": [
  {
   "cell_type": "code",
   "execution_count": 1,
   "metadata": {},
   "outputs": [],
   "source": [
    "# Importing the important libraries\n",
    "import pandas as pd \n",
    "import numpy as np\n",
    "from sklearn.feature_extraction.text import TfidfVectorizer\n",
    "import scipy.sparse as sp\n"
   ]
  },
  {
   "cell_type": "code",
   "execution_count": 2,
   "metadata": {},
   "outputs": [
    {
     "data": {
      "text/html": [
       "<div>\n",
       "<style scoped>\n",
       "    .dataframe tbody tr th:only-of-type {\n",
       "        vertical-align: middle;\n",
       "    }\n",
       "\n",
       "    .dataframe tbody tr th {\n",
       "        vertical-align: top;\n",
       "    }\n",
       "\n",
       "    .dataframe thead th {\n",
       "        text-align: right;\n",
       "    }\n",
       "</style>\n",
       "<table border=\"1\" class=\"dataframe\">\n",
       "  <thead>\n",
       "    <tr style=\"text-align: right;\">\n",
       "      <th></th>\n",
       "      <th>id</th>\n",
       "      <th>dialect</th>\n",
       "      <th>transformed</th>\n",
       "      <th>fineText</th>\n",
       "    </tr>\n",
       "  </thead>\n",
       "  <tbody>\n",
       "    <tr>\n",
       "      <th>0</th>\n",
       "      <td>939598542259277824</td>\n",
       "      <td>IQ</td>\n",
       "      <td>0</td>\n",
       "      <td>مثل ما داعش فجر تاريخ اجدادنا قبل سنه واحنه مع...</td>\n",
       "    </tr>\n",
       "    <tr>\n",
       "      <th>1</th>\n",
       "      <td>869345568534941696</td>\n",
       "      <td>IQ</td>\n",
       "      <td>0</td>\n",
       "      <td>احنا سنه وحق الله منفرق بس حسبى الله ونعم الوك...</td>\n",
       "    </tr>\n",
       "    <tr>\n",
       "      <th>2</th>\n",
       "      <td>936739253412917248</td>\n",
       "      <td>IQ</td>\n",
       "      <td>0</td>\n",
       "      <td>الكاوليه هنود مو عرب خلك غلابه عايشين بدون مشا...</td>\n",
       "    </tr>\n",
       "    <tr>\n",
       "      <th>3</th>\n",
       "      <td>995964915583156224</td>\n",
       "      <td>IQ</td>\n",
       "      <td>0</td>\n",
       "      <td>عليمن انطلع حركتنه بس ريد اذكر الزواج الى صدكو بى</td>\n",
       "    </tr>\n",
       "    <tr>\n",
       "      <th>4</th>\n",
       "      <td>633976940433510400</td>\n",
       "      <td>IQ</td>\n",
       "      <td>0</td>\n",
       "      <td>شيلوو اشتهر حسونى مع نور الزين والردح الزين</td>\n",
       "    </tr>\n",
       "    <tr>\n",
       "      <th>...</th>\n",
       "      <td>...</td>\n",
       "      <td>...</td>\n",
       "      <td>...</td>\n",
       "      <td>...</td>\n",
       "    </tr>\n",
       "    <tr>\n",
       "      <th>17995</th>\n",
       "      <td>1153015108106444800</td>\n",
       "      <td>BH</td>\n",
       "      <td>17</td>\n",
       "      <td>اى حتى الطير صايدتنه عدل</td>\n",
       "    </tr>\n",
       "    <tr>\n",
       "      <th>17996</th>\n",
       "      <td>1015716046085468160</td>\n",
       "      <td>BH</td>\n",
       "      <td>17</td>\n",
       "      <td>اشتكت لزوجها احس انى متضايقه فرد عليها الحنون ...</td>\n",
       "    </tr>\n",
       "    <tr>\n",
       "      <th>17997</th>\n",
       "      <td>1016457209851580416</td>\n",
       "      <td>BH</td>\n",
       "      <td>17</td>\n",
       "      <td>انت القمر بوسط ليلى انت مرى وحلمى انت النور لع...</td>\n",
       "    </tr>\n",
       "    <tr>\n",
       "      <th>17998</th>\n",
       "      <td>1153244931269566464</td>\n",
       "      <td>BH</td>\n",
       "      <td>17</td>\n",
       "      <td>عجيبه الصراحه ويامنظر الطبيعه تنسى كلشى الله ي...</td>\n",
       "    </tr>\n",
       "    <tr>\n",
       "      <th>17999</th>\n",
       "      <td>1157361172238262272</td>\n",
       "      <td>BH</td>\n",
       "      <td>17</td>\n",
       "      <td>حق على بحر كان مشهور بس عاش طول عمره فقير وعاد...</td>\n",
       "    </tr>\n",
       "  </tbody>\n",
       "</table>\n",
       "<p>18000 rows × 4 columns</p>\n",
       "</div>"
      ],
      "text/plain": [
       "                        id dialect  transformed  \\\n",
       "0       939598542259277824      IQ            0   \n",
       "1       869345568534941696      IQ            0   \n",
       "2       936739253412917248      IQ            0   \n",
       "3       995964915583156224      IQ            0   \n",
       "4       633976940433510400      IQ            0   \n",
       "...                    ...     ...          ...   \n",
       "17995  1153015108106444800      BH           17   \n",
       "17996  1015716046085468160      BH           17   \n",
       "17997  1016457209851580416      BH           17   \n",
       "17998  1153244931269566464      BH           17   \n",
       "17999  1157361172238262272      BH           17   \n",
       "\n",
       "                                                fineText  \n",
       "0      مثل ما داعش فجر تاريخ اجدادنا قبل سنه واحنه مع...  \n",
       "1      احنا سنه وحق الله منفرق بس حسبى الله ونعم الوك...  \n",
       "2      الكاوليه هنود مو عرب خلك غلابه عايشين بدون مشا...  \n",
       "3      عليمن انطلع حركتنه بس ريد اذكر الزواج الى صدكو بى  \n",
       "4            شيلوو اشتهر حسونى مع نور الزين والردح الزين  \n",
       "...                                                  ...  \n",
       "17995                           اى حتى الطير صايدتنه عدل  \n",
       "17996  اشتكت لزوجها احس انى متضايقه فرد عليها الحنون ...  \n",
       "17997  انت القمر بوسط ليلى انت مرى وحلمى انت النور لع...  \n",
       "17998  عجيبه الصراحه ويامنظر الطبيعه تنسى كلشى الله ي...  \n",
       "17999  حق على بحر كان مشهور بس عاش طول عمره فقير وعاد...  \n",
       "\n",
       "[18000 rows x 4 columns]"
      ]
     },
     "execution_count": 2,
     "metadata": {},
     "output_type": "execute_result"
    }
   ],
   "source": [
    "# Reading the data\n",
    "data= pd.read_csv(\"preprocessedData.csv\")\n",
    "data=data.drop(['Unnamed: 0'], axis=1)\n",
    "data"
   ]
  },
  {
   "cell_type": "code",
   "execution_count": 3,
   "metadata": {},
   "outputs": [
    {
     "data": {
      "text/plain": [
       "id              int64\n",
       "dialect        object\n",
       "transformed     int64\n",
       "fineText       object\n",
       "dtype: object"
      ]
     },
     "execution_count": 3,
     "metadata": {},
     "output_type": "execute_result"
    }
   ],
   "source": [
    "# Data type of each column\n",
    "data.dtypes"
   ]
  },
  {
   "cell_type": "code",
   "execution_count": 4,
   "metadata": {},
   "outputs": [
    {
     "data": {
      "text/plain": [
       "id             0\n",
       "dialect        0\n",
       "transformed    0\n",
       "fineText       9\n",
       "dtype: int64"
      ]
     },
     "execution_count": 4,
     "metadata": {},
     "output_type": "execute_result"
    }
   ],
   "source": [
    "# Missing values in the data\n",
    "nullData= data.isnull().sum()\n",
    "nullData"
   ]
  },
  {
   "cell_type": "code",
   "execution_count": 3,
   "metadata": {},
   "outputs": [
    {
     "data": {
      "text/plain": [
       "id             0.0\n",
       "dialect        0.0\n",
       "transformed    0.0\n",
       "fineText       0.0\n",
       "dtype: float64"
      ]
     },
     "execution_count": 3,
     "metadata": {},
     "output_type": "execute_result"
    }
   ],
   "source": [
    "# Dropping the null values in the data\n",
    "data= data.dropna(axis=0)\n",
    "# Ensuring that there are no missing values\n",
    "data.isnull().sum() / data.shape[0] * 100"
   ]
  },
  {
   "cell_type": "code",
   "execution_count": 4,
   "metadata": {},
   "outputs": [
    {
     "name": "stderr",
     "output_type": "stream",
     "text": [
      "/var/folders/_m/2b51_hvs78l5wwx7k1rkzlym0000gn/T/ipykernel_1264/246733476.py:2: SettingWithCopyWarning: \n",
      "A value is trying to be set on a copy of a slice from a DataFrame.\n",
      "Try using .loc[row_indexer,col_indexer] = value instead\n",
      "\n",
      "See the caveats in the documentation: https://pandas.pydata.org/pandas-docs/stable/user_guide/indexing.html#returning-a-view-versus-a-copy\n",
      "  data['fineText'] = data['fineText'].apply(lambda x: [str(word.split()) for word in x.split()])\n",
      "/var/folders/_m/2b51_hvs78l5wwx7k1rkzlym0000gn/T/ipykernel_1264/246733476.py:3: SettingWithCopyWarning: \n",
      "A value is trying to be set on a copy of a slice from a DataFrame.\n",
      "Try using .loc[row_indexer,col_indexer] = value instead\n",
      "\n",
      "See the caveats in the documentation: https://pandas.pydata.org/pandas-docs/stable/user_guide/indexing.html#returning-a-view-versus-a-copy\n",
      "  data['fineText'] = data['fineText'].apply(lambda x: ' '.join(map(str, x)))\n"
     ]
    },
    {
     "data": {
      "text/html": [
       "<div>\n",
       "<style scoped>\n",
       "    .dataframe tbody tr th:only-of-type {\n",
       "        vertical-align: middle;\n",
       "    }\n",
       "\n",
       "    .dataframe tbody tr th {\n",
       "        vertical-align: top;\n",
       "    }\n",
       "\n",
       "    .dataframe thead th {\n",
       "        text-align: right;\n",
       "    }\n",
       "</style>\n",
       "<table border=\"1\" class=\"dataframe\">\n",
       "  <thead>\n",
       "    <tr style=\"text-align: right;\">\n",
       "      <th></th>\n",
       "      <th>id</th>\n",
       "      <th>dialect</th>\n",
       "      <th>transformed</th>\n",
       "      <th>fineText</th>\n",
       "    </tr>\n",
       "  </thead>\n",
       "  <tbody>\n",
       "    <tr>\n",
       "      <th>0</th>\n",
       "      <td>939598542259277824</td>\n",
       "      <td>IQ</td>\n",
       "      <td>0</td>\n",
       "      <td>['مثل'] ['ما'] ['داعش'] ['فجر'] ['تاريخ'] ['اج...</td>\n",
       "    </tr>\n",
       "    <tr>\n",
       "      <th>1</th>\n",
       "      <td>869345568534941696</td>\n",
       "      <td>IQ</td>\n",
       "      <td>0</td>\n",
       "      <td>['احنا'] ['سنه'] ['وحق'] ['الله'] ['منفرق'] ['...</td>\n",
       "    </tr>\n",
       "    <tr>\n",
       "      <th>2</th>\n",
       "      <td>936739253412917248</td>\n",
       "      <td>IQ</td>\n",
       "      <td>0</td>\n",
       "      <td>['الكاوليه'] ['هنود'] ['مو'] ['عرب'] ['خلك'] [...</td>\n",
       "    </tr>\n",
       "    <tr>\n",
       "      <th>3</th>\n",
       "      <td>995964915583156224</td>\n",
       "      <td>IQ</td>\n",
       "      <td>0</td>\n",
       "      <td>['عليمن'] ['انطلع'] ['حركتنه'] ['بس'] ['ريد'] ...</td>\n",
       "    </tr>\n",
       "    <tr>\n",
       "      <th>4</th>\n",
       "      <td>633976940433510400</td>\n",
       "      <td>IQ</td>\n",
       "      <td>0</td>\n",
       "      <td>['شيلوو'] ['اشتهر'] ['حسونى'] ['مع'] ['نور'] [...</td>\n",
       "    </tr>\n",
       "    <tr>\n",
       "      <th>...</th>\n",
       "      <td>...</td>\n",
       "      <td>...</td>\n",
       "      <td>...</td>\n",
       "      <td>...</td>\n",
       "    </tr>\n",
       "    <tr>\n",
       "      <th>17995</th>\n",
       "      <td>1153015108106444800</td>\n",
       "      <td>BH</td>\n",
       "      <td>17</td>\n",
       "      <td>['اى'] ['حتى'] ['الطير'] ['صايدتنه'] ['عدل']</td>\n",
       "    </tr>\n",
       "    <tr>\n",
       "      <th>17996</th>\n",
       "      <td>1015716046085468160</td>\n",
       "      <td>BH</td>\n",
       "      <td>17</td>\n",
       "      <td>['اشتكت'] ['لزوجها'] ['احس'] ['انى'] ['متضايقه...</td>\n",
       "    </tr>\n",
       "    <tr>\n",
       "      <th>17997</th>\n",
       "      <td>1016457209851580416</td>\n",
       "      <td>BH</td>\n",
       "      <td>17</td>\n",
       "      <td>['انت'] ['القمر'] ['بوسط'] ['ليلى'] ['انت'] ['...</td>\n",
       "    </tr>\n",
       "    <tr>\n",
       "      <th>17998</th>\n",
       "      <td>1153244931269566464</td>\n",
       "      <td>BH</td>\n",
       "      <td>17</td>\n",
       "      <td>['عجيبه'] ['الصراحه'] ['ويامنظر'] ['الطبيعه'] ...</td>\n",
       "    </tr>\n",
       "    <tr>\n",
       "      <th>17999</th>\n",
       "      <td>1157361172238262272</td>\n",
       "      <td>BH</td>\n",
       "      <td>17</td>\n",
       "      <td>['حق'] ['على'] ['بحر'] ['كان'] ['مشهور'] ['بس'...</td>\n",
       "    </tr>\n",
       "  </tbody>\n",
       "</table>\n",
       "<p>17991 rows × 4 columns</p>\n",
       "</div>"
      ],
      "text/plain": [
       "                        id dialect  transformed  \\\n",
       "0       939598542259277824      IQ            0   \n",
       "1       869345568534941696      IQ            0   \n",
       "2       936739253412917248      IQ            0   \n",
       "3       995964915583156224      IQ            0   \n",
       "4       633976940433510400      IQ            0   \n",
       "...                    ...     ...          ...   \n",
       "17995  1153015108106444800      BH           17   \n",
       "17996  1015716046085468160      BH           17   \n",
       "17997  1016457209851580416      BH           17   \n",
       "17998  1153244931269566464      BH           17   \n",
       "17999  1157361172238262272      BH           17   \n",
       "\n",
       "                                                fineText  \n",
       "0      ['مثل'] ['ما'] ['داعش'] ['فجر'] ['تاريخ'] ['اج...  \n",
       "1      ['احنا'] ['سنه'] ['وحق'] ['الله'] ['منفرق'] ['...  \n",
       "2      ['الكاوليه'] ['هنود'] ['مو'] ['عرب'] ['خلك'] [...  \n",
       "3      ['عليمن'] ['انطلع'] ['حركتنه'] ['بس'] ['ريد'] ...  \n",
       "4      ['شيلوو'] ['اشتهر'] ['حسونى'] ['مع'] ['نور'] [...  \n",
       "...                                                  ...  \n",
       "17995       ['اى'] ['حتى'] ['الطير'] ['صايدتنه'] ['عدل']  \n",
       "17996  ['اشتكت'] ['لزوجها'] ['احس'] ['انى'] ['متضايقه...  \n",
       "17997  ['انت'] ['القمر'] ['بوسط'] ['ليلى'] ['انت'] ['...  \n",
       "17998  ['عجيبه'] ['الصراحه'] ['ويامنظر'] ['الطبيعه'] ...  \n",
       "17999  ['حق'] ['على'] ['بحر'] ['كان'] ['مشهور'] ['بس'...  \n",
       "\n",
       "[17991 rows x 4 columns]"
      ]
     },
     "execution_count": 4,
     "metadata": {},
     "output_type": "execute_result"
    }
   ],
   "source": [
    "# Putting each word in an array, so the sentence would be array of array of words\n",
    "data['fineText'] = data['fineText'].apply(lambda x: [str(word.split()) for word in x.split()]) \n",
    "data['fineText'] = data['fineText'].apply(lambda x: ' '.join(map(str, x)))\n",
    "data"
   ]
  },
  {
   "cell_type": "code",
   "execution_count": 5,
   "metadata": {},
   "outputs": [],
   "source": [
    "# Performing embedding using and storing the embedding in the dataset\n",
    "vectorizer = TfidfVectorizer()\n",
    "embeddings = vectorizer.fit_transform(data['fineText'])"
   ]
  },
  {
   "attachments": {},
   "cell_type": "markdown",
   "metadata": {},
   "source": [
    "LSTM model:"
   ]
  },
  {
   "cell_type": "code",
   "execution_count": 6,
   "metadata": {},
   "outputs": [],
   "source": [
    "# Importing Libraries:\n",
    "from sklearn.model_selection import train_test_split, GridSearchCV, StratifiedKFold\n",
    "from sklearn import metrics\n",
    "from sklearn.metrics import f1_score\n",
    "from keras.models import Sequential\n",
    "from keras.optimizers import Adam, SGD, RMSprop\n",
    "from keras.layers import Dense, SimpleRNN, Dropout,Flatten\n",
    "from scikeras.wrappers import KerasClassifier\n",
    "import matplotlib.pyplot as plt\n",
    "from keras import models, layers\n",
    "from keras.utils import to_categorical\n",
    "from keras.models import Sequential\n",
    "from keras.layers import LSTM, Dense\n"
   ]
  },
  {
   "cell_type": "code",
   "execution_count": 7,
   "metadata": {},
   "outputs": [],
   "source": [
    "# Splitting of data to train and test\n",
    "X_train, X_test, y_train, y_test = train_test_split(embeddings, data['transformed'], test_size=0.2, random_state=1)\n",
    "\n",
    "# Converting the splitted data to arrays\n",
    "X_train= X_train.toarray()\n",
    "X_test=X_test.toarray()\n",
    "\n",
    "# Converting the X_train and X_test to type float as they are written 0. not 0.0 \n",
    "# Reshaping them back to their original shape as they were flattened \n",
    "X_train=np.asarray(X_train).astype('float32').reshape(X_train.shape[0],1,X_train.shape[1])\n",
    "X_test=np.asarray(X_test).astype('float32').reshape(X_test.shape[0],1,X_test.shape[1])\n",
    "\n",
    "# Encoding the y_train and y_test:\n",
    "y_train= np.array(y_train)\n",
    "y_train_hot=np.zeros((y_train.size,y_train.max()+1))\n",
    "y_train_hot[np.arange(y_train.size),y_train]=1\n",
    "\n",
    "y_test= np.array(y_test)\n",
    "y_test_hot=np.zeros((y_test.size,y_test.max()+1))\n",
    "y_test_hot[np.arange(y_test.size),y_test]=1"
   ]
  },
  {
   "cell_type": "code",
   "execution_count": 8,
   "metadata": {},
   "outputs": [
    {
     "data": {
      "text/plain": [
       "(14392, 1, 58543)"
      ]
     },
     "execution_count": 8,
     "metadata": {},
     "output_type": "execute_result"
    }
   ],
   "source": [
    "X_train.shape"
   ]
  },
  {
   "cell_type": "code",
   "execution_count": 10,
   "metadata": {},
   "outputs": [
    {
     "name": "stdout",
     "output_type": "stream",
     "text": [
      "Epoch 1/15\n",
      "15/15 [==============================] - 24s 2s/step - loss: 2.8881 - accuracy: 0.1148 - val_loss: 2.8845 - val_accuracy: 0.2367\n",
      "Epoch 2/15\n",
      "15/15 [==============================] - 21s 1s/step - loss: 2.8696 - accuracy: 0.4981 - val_loss: 2.8756 - val_accuracy: 0.2959\n",
      "Epoch 3/15\n",
      "15/15 [==============================] - 23s 2s/step - loss: 2.8413 - accuracy: 0.6688 - val_loss: 2.8610 - val_accuracy: 0.3126\n",
      "Epoch 4/15\n",
      "15/15 [==============================] - 23s 2s/step - loss: 2.7955 - accuracy: 0.7706 - val_loss: 2.8386 - val_accuracy: 0.3304\n",
      "Epoch 5/15\n",
      "15/15 [==============================] - 22s 1s/step - loss: 2.7262 - accuracy: 0.8275 - val_loss: 2.8060 - val_accuracy: 0.3484\n",
      "Epoch 6/15\n",
      "15/15 [==============================] - 24s 2s/step - loss: 2.6274 - accuracy: 0.8495 - val_loss: 2.7616 - val_accuracy: 0.3562\n",
      "Epoch 7/15\n",
      "15/15 [==============================] - 23s 2s/step - loss: 2.4945 - accuracy: 0.8743 - val_loss: 2.7047 - val_accuracy: 0.3618\n",
      "Epoch 8/15\n",
      "15/15 [==============================] - 22s 1s/step - loss: 2.3245 - accuracy: 0.8885 - val_loss: 2.6358 - val_accuracy: 0.3668\n",
      "Epoch 9/15\n",
      "15/15 [==============================] - 24s 2s/step - loss: 2.1204 - accuracy: 0.8999 - val_loss: 2.5583 - val_accuracy: 0.3715\n",
      "Epoch 10/15\n",
      "15/15 [==============================] - 25s 2s/step - loss: 1.8907 - accuracy: 0.9088 - val_loss: 2.4768 - val_accuracy: 0.3693\n",
      "Epoch 11/15\n",
      "15/15 [==============================] - 24s 2s/step - loss: 1.6418 - accuracy: 0.9204 - val_loss: 2.3970 - val_accuracy: 0.3723\n",
      "Epoch 12/15\n",
      "15/15 [==============================] - 23s 2s/step - loss: 1.3957 - accuracy: 0.9307 - val_loss: 2.3247 - val_accuracy: 0.3718\n",
      "Epoch 13/15\n",
      "15/15 [==============================] - 22s 1s/step - loss: 1.1680 - accuracy: 0.9375 - val_loss: 2.2640 - val_accuracy: 0.3712\n",
      "Epoch 14/15\n",
      "15/15 [==============================] - 24s 2s/step - loss: 0.9606 - accuracy: 0.9470 - val_loss: 2.2148 - val_accuracy: 0.3684\n",
      "Epoch 15/15\n",
      "15/15 [==============================] - 23s 2s/step - loss: 0.7860 - accuracy: 0.9563 - val_loss: 2.1774 - val_accuracy: 0.3684\n"
     ]
    },
    {
     "data": {
      "text/plain": [
       "<keras.src.callbacks.History at 0x291f739d0>"
      ]
     },
     "execution_count": 10,
     "metadata": {},
     "output_type": "execute_result"
    }
   ],
   "source": [
    "# Defining the LSTM model:\n",
    "model = Sequential()\n",
    "model.add(LSTM(units=512))\n",
    "#model.add(Dropout(0.8))\n",
    "model.add(Dense(units=18, activation='softmax'))\n",
    "model.compile(loss='categorical_crossentropy', optimizer='adam', metrics=['accuracy'])\n",
    "model.fit(X_train, y_train_hot, epochs=10,batch_size=64, verbose=1,validation_data=(X_test,y_test_hot))"
   ]
  },
  {
   "cell_type": "code",
   "execution_count": 15,
   "metadata": {},
   "outputs": [
    {
     "name": "stdout",
     "output_type": "stream",
     "text": [
      "113/113 [==============================] - 5s 45ms/step - loss: 2.1774 - accuracy: 0.3684\n",
      "Test loss: 217.741060256958 %\n",
      "Test accuracy: 36.843568086624146 %\n",
      "113/113 [==============================] - 5s 46ms/step\n",
      "F1 score: 0.368832505513386\n"
     ]
    }
   ],
   "source": [
    "# Evaluate the model on the test data\n",
    "loss, accuracy= model.evaluate(X_test, y_test_hot)\n",
    "print('Test loss:', loss*100,'%')\n",
    "print('Test accuracy:', accuracy*100,'%')\n",
    "y_pred = model.predict(X_test)\n",
    "y_pred = np.argmax(y_pred, axis=1)\n",
    "y_true = np.argmax(y_test_hot, axis=1)\n",
    "f1 = f1_score(y_true, y_pred,average='weighted')\n",
    "print(\"F1 score:\", f1)"
   ]
  },
  {
   "cell_type": "code",
   "execution_count": 16,
   "metadata": {},
   "outputs": [
    {
     "data": {
      "image/png": "[encoded data removed]",
      "text/plain": [
       "<Figure size 640x480 with 2 Axes>"
      ]
     },
     "metadata": {},
     "output_type": "display_data"
    },
    {
     "data": {
      "text/plain": [
       "<Figure size 640x480 with 0 Axes>"
      ]
     },
     "metadata": {},
     "output_type": "display_data"
    }
   ],
   "source": [
    "cm = metrics.confusion_matrix(y_test, y_pred)\n",
    "cm_display = metrics.ConfusionMatrixDisplay(confusion_matrix=cm, display_labels=np.arange(18))\n",
    "cm_display.plot()\n",
    "plt.show()\n",
    "plt.savefig('ConfusionMatrixLSTM.png')"
   ]
  },
  {
   "cell_type": "code",
   "execution_count": 13,
   "metadata": {},
   "outputs": [
    {
     "name": "stdout",
     "output_type": "stream",
     "text": [
      "              precision    recall  f1-score   support\n",
      "\n",
      "     class_0       0.46      0.44      0.45       202\n",
      "     class_1       0.43      0.46      0.45       177\n",
      "     class_2       0.34      0.31      0.32       206\n",
      "     class_3       0.24      0.23      0.23       210\n",
      "     class_4       0.34      0.34      0.34       202\n",
      "     class_5       0.53      0.50      0.52       202\n",
      "     class_6       0.26      0.28      0.27       197\n",
      "     class_7       0.59      0.59      0.59       196\n",
      "     class_8       0.28      0.27      0.27       215\n",
      "     class_9       0.26      0.28      0.27       204\n",
      "    class_10       0.39      0.41      0.40       186\n",
      "    class_11       0.53      0.60      0.56       193\n",
      "    class_12       0.46      0.40      0.43       198\n",
      "    class_13       0.27      0.30      0.28       201\n",
      "    class_14       0.28      0.27      0.28       213\n",
      "    class_15       0.61      0.55      0.58       184\n",
      "    class_16       0.29      0.28      0.28       206\n",
      "    class_17       0.18      0.19      0.19       207\n",
      "\n",
      "    accuracy                           0.37      3599\n",
      "   macro avg       0.37      0.37      0.37      3599\n",
      "weighted avg       0.37      0.37      0.37      3599\n",
      "\n"
     ]
    }
   ],
   "source": [
    "from sklearn.metrics import classification_report\n",
    "\n",
    "target_names = [\"class_{}\".format(i) for i in range(18)]\n",
    "print(classification_report(y_test, y_pred, target_names=target_names))"
   ]
  },
  {
   "cell_type": "code",
   "execution_count": 17,
   "metadata": {},
   "outputs": [
    {
     "name": "stderr",
     "output_type": "stream",
     "text": [
      "/Users/lojinkhattab/Library/Python/3.9/lib/python/site-packages/keras/src/engine/training.py:3000: UserWarning: You are saving your model as an HDF5 file via `model.save()`. This file format is considered legacy. We recommend using instead the native Keras format, e.g. `model.save('my_model.keras')`.\n",
      "  saving_api.save_model(\n"
     ]
    }
   ],
   "source": [
    "model.save('lstm.h5')"
   ]
  }
 ],
 "metadata": {
  "kernelspec": {
   "display_name": "Python 3",
   "language": "python",
   "name": "python3"
  },
  "language_info": {
   "codemirror_mode": {
    "name": "ipython",
    "version": 3
   },
   "file_extension": ".py",
   "mimetype": "text/x-python",
   "name": "python",
   "nbconvert_exporter": "python",
   "pygments_lexer": "ipython3",
   "version": "3.9.6"
  },
  "orig_nbformat": 4
 },
 "nbformat": 4,
 "nbformat_minor": 2
}
